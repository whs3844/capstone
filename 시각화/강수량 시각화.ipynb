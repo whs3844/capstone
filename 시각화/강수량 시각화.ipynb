{
 "cells": [
  {
   "cell_type": "code",
   "execution_count": 2,
   "id": "6e92e2eb",
   "metadata": {},
   "outputs": [],
   "source": [
    "import pandas as pd\n",
    "\n",
    "rain = pd.read_csv(\"C://Users//whs38//캡스톤//데이터//평균강수량정규화.csv\",encoding='euc-kr')\n",
    "rain.head()\n",
    "rain = rain.set_index(\"district\")\n",
    "rain.index\n",
    "\n",
    "\n",
    "\n",
    "import json\n",
    "geo_path = 'C://Users//whs38//캡스톤//jeju_map.geojson'\n",
    "geo_str = json.load(open(geo_path, encoding='utf-8'))\n",
    "\n",
    "\n",
    "\n",
    "\n",
    "import folium\n",
    "\n",
    "rain_map = folium.Map(location=[33.38, 126.5], zoom_start=11,\n",
    "                       tiles='Stamen Terrain') \n",
    "\n",
    "\n",
    "rain_map.choropleth(geo_data = geo_str,\n",
    "               data = rain['6월'],  \n",
    "               columns = [rain.index, rain['6월']],\n",
    "               fill_color = 'PuRd', #PuRd, YlGnBu\n",
    "               key_on = 'feature.properties.EMD_NM',\n",
    "               legend_name = \"지역별 6월 강수량\" )\n",
    "rain_map.save(\"C://Users//whs38//캡스톤//강수량시각화(6월).html\")\n"
   ]
  },
  {
   "cell_type": "code",
   "execution_count": null,
   "id": "bb302848",
   "metadata": {},
   "outputs": [],
   "source": []
  },
  {
   "cell_type": "code",
   "execution_count": null,
   "id": "71f494ca",
   "metadata": {},
   "outputs": [],
   "source": []
  },
  {
   "cell_type": "code",
   "execution_count": null,
   "id": "6543b335",
   "metadata": {},
   "outputs": [],
   "source": []
  },
  {
   "cell_type": "code",
   "execution_count": null,
   "id": "9720c66a",
   "metadata": {},
   "outputs": [],
   "source": []
  },
  {
   "cell_type": "code",
   "execution_count": null,
   "id": "e18a3909",
   "metadata": {},
   "outputs": [],
   "source": []
  },
  {
   "cell_type": "code",
   "execution_count": null,
   "id": "113aaae4",
   "metadata": {},
   "outputs": [],
   "source": []
  }
 ],
 "metadata": {
  "kernelspec": {
   "display_name": "Python 3 (ipykernel)",
   "language": "python",
   "name": "python3"
  },
  "language_info": {
   "codemirror_mode": {
    "name": "ipython",
    "version": 3
   },
   "file_extension": ".py",
   "mimetype": "text/x-python",
   "name": "python",
   "nbconvert_exporter": "python",
   "pygments_lexer": "ipython3",
   "version": "3.9.7"
  }
 },
 "nbformat": 4,
 "nbformat_minor": 5
}
