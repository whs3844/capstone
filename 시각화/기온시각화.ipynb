{
 "cells": [
  {
   "cell_type": "code",
   "execution_count": 3,
   "id": "20e5a3da",
   "metadata": {},
   "outputs": [],
   "source": [
    "# =============================================================================\n",
    "# 지역별 기온을 지도에 시각화\n",
    "# =============================================================================\n",
    "# 1. 파일 불러오기\n",
    "import pandas as pd\n",
    "\n",
    "temp = pd.read_csv('C://Users//whs38//캡스톤//데이터//평균기온정규화.csv',encoding='euc-kr')\n",
    "temp.head()\n",
    "temp = temp.set_index(\"district\")\n",
    "temp.index\n",
    "\n",
    "\n",
    "# 2. 제주도 지역별 경계선 데이터 불러오기\n",
    "import json\n",
    "geo_path = 'C://Users//whs38//캡스톤/jeju_map.geojson'\n",
    "geo_str = json.load(open(geo_path, encoding='utf-8'))\n",
    "\n",
    "\n",
    "\n",
    "# 3.기온을 지도에 나타내어 시각화\n",
    "# 6월 시각화\n",
    "import folium\n",
    "\n",
    "temp_map = folium.Map(location=[33.38, 126.5], zoom_start=11,\n",
    "                       tiles='Stamen Terrain') \n",
    "\n",
    "\n",
    "temp_map.choropleth(geo_data = geo_str,\n",
    "               data = temp['6월'],  \n",
    "               columns = [temp.index, temp['6월']],\n",
    "               fill_color = 'PuRd', #PuRd, YlGnBu\n",
    "               key_on = 'feature.properties.EMD_NM',\n",
    "               legend_name = \"지역별 6월 기온\" )\n",
    "temp_map.save(\"C://Users//whs38//캡스톤//시각화//기온시각화(6월).html\")\n",
    "\n",
    "\n",
    "\n",
    "\n",
    "\n"
   ]
  },
  {
   "cell_type": "code",
   "execution_count": null,
   "id": "753d8124",
   "metadata": {},
   "outputs": [],
   "source": []
  }
 ],
 "metadata": {
  "kernelspec": {
   "display_name": "Python 3 (ipykernel)",
   "language": "python",
   "name": "python3"
  },
  "language_info": {
   "codemirror_mode": {
    "name": "ipython",
    "version": 3
   },
   "file_extension": ".py",
   "mimetype": "text/x-python",
   "name": "python",
   "nbconvert_exporter": "python",
   "pygments_lexer": "ipython3",
   "version": "3.9.7"
  }
 },
 "nbformat": 4,
 "nbformat_minor": 5
}
