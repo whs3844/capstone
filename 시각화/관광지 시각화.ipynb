{
 "cells": [
  {
   "cell_type": "code",
   "execution_count": 1,
   "id": "add4cfc6",
   "metadata": {
    "scrolled": false
   },
   "outputs": [
    {
     "data": {
      "text/html": [
       "<div>\n",
       "<style scoped>\n",
       "    .dataframe tbody tr th:only-of-type {\n",
       "        vertical-align: middle;\n",
       "    }\n",
       "\n",
       "    .dataframe tbody tr th {\n",
       "        vertical-align: top;\n",
       "    }\n",
       "\n",
       "    .dataframe thead th {\n",
       "        text-align: right;\n",
       "    }\n",
       "</style>\n",
       "<table border=\"1\" class=\"dataframe\">\n",
       "  <thead>\n",
       "    <tr style=\"text-align: right;\">\n",
       "      <th></th>\n",
       "      <th>name</th>\n",
       "      <th>address</th>\n",
       "      <th>lat</th>\n",
       "      <th>lng</th>\n",
       "    </tr>\n",
       "  </thead>\n",
       "  <tbody>\n",
       "    <tr>\n",
       "      <th>238</th>\n",
       "      <td>가시아방</td>\n",
       "      <td>제주특별자치도 서귀포시 성산읍 고성리 528-2</td>\n",
       "      <td>33.424210</td>\n",
       "      <td>126.931111</td>\n",
       "    </tr>\n",
       "    <tr>\n",
       "      <th>239</th>\n",
       "      <td>가뫼물</td>\n",
       "      <td>제주특별자치도 서귀포시 남원읍 남원리 2140-6</td>\n",
       "      <td>33.289973</td>\n",
       "      <td>126.693528</td>\n",
       "    </tr>\n",
       "    <tr>\n",
       "      <th>240</th>\n",
       "      <td>9.81 파크</td>\n",
       "      <td>제주특별자치도 제주시 애월읍 어음리 산 131</td>\n",
       "      <td>33.392887</td>\n",
       "      <td>126.358632</td>\n",
       "    </tr>\n",
       "    <tr>\n",
       "      <th>241</th>\n",
       "      <td>2020 제주 드라이브 잇쇼(2020 JEJU DRIVE EAT SHOW)</td>\n",
       "      <td>제주특별자치도 제주시 제주종합경기장 주차장 일원</td>\n",
       "      <td>33.497528</td>\n",
       "      <td>126.514674</td>\n",
       "    </tr>\n",
       "    <tr>\n",
       "      <th>242</th>\n",
       "      <td>1100고지(휴게소)</td>\n",
       "      <td>제주특별자치도 서귀포시 색달동 산 1-3</td>\n",
       "      <td>33.339912</td>\n",
       "      <td>126.436820</td>\n",
       "    </tr>\n",
       "  </tbody>\n",
       "</table>\n",
       "</div>"
      ],
      "text/plain": [
       "                                          name                      address  \\\n",
       "238                                       가시아방   제주특별자치도 서귀포시 성산읍 고성리 528-2   \n",
       "239                                        가뫼물  제주특별자치도 서귀포시 남원읍 남원리 2140-6   \n",
       "240                                    9.81 파크    제주특별자치도 제주시 애월읍 어음리 산 131   \n",
       "241  2020 제주 드라이브 잇쇼(2020 JEJU DRIVE EAT SHOW)   제주특별자치도 제주시 제주종합경기장 주차장 일원   \n",
       "242                                1100고지(휴게소)       제주특별자치도 서귀포시 색달동 산 1-3   \n",
       "\n",
       "           lat         lng  \n",
       "238  33.424210  126.931111  \n",
       "239  33.289973  126.693528  \n",
       "240  33.392887  126.358632  \n",
       "241  33.497528  126.514674  \n",
       "242  33.339912  126.436820  "
      ]
     },
     "execution_count": 1,
     "metadata": {},
     "output_type": "execute_result"
    }
   ],
   "source": [
    "import pandas as pd\n",
    "\n",
    "tourist_loc = pd.read_csv('C://Users//whs38//캡스톤//데이터//관광지.csv',encoding='euc-kr')\n",
    "tourist_loc.head()\n",
    "tourist_loc.tail()"
   ]
  },
  {
   "cell_type": "code",
   "execution_count": 2,
   "id": "31059924",
   "metadata": {},
   "outputs": [],
   "source": [
    "import json\n",
    "geo_path = 'C://Users//whs38//캡스톤//jeju_map.geojson'\n",
    "geo_str = json.load(open(geo_path, encoding='utf-8'))"
   ]
  },
  {
   "cell_type": "code",
   "execution_count": 3,
   "id": "59c93f27",
   "metadata": {
    "scrolled": false
   },
   "outputs": [],
   "source": [
    "import folium\n",
    "\n",
    "tourist_map = folium.Map(location=[33.362500, 126.533694], zoom_start=11,\n",
    "                       tiles='Stamen Terrain') \n",
    "\n",
    "for n in tourist_loc.index:\n",
    "    folium.Marker([tourist_loc['lat'][n],\n",
    "                   tourist_loc['lng'][n]],\n",
    "                  popup=tourist_loc['name'][n],\n",
    "                  icon=folium.Icon(color='green', icon='info-sign'),legend_name = \"관광지\").add_to(tourist_map)\n",
    "\n",
    "tourist_map.save(\"C://Users//whs38//캡스톤//시각화//관광지 시각화(marker).html\")\n"
   ]
  },
  {
   "cell_type": "code",
   "execution_count": null,
   "id": "2c453b78",
   "metadata": {},
   "outputs": [],
   "source": []
  },
  {
   "cell_type": "code",
   "execution_count": null,
   "id": "11fad53a",
   "metadata": {},
   "outputs": [],
   "source": []
  }
 ],
 "metadata": {
  "kernelspec": {
   "display_name": "Python 3 (ipykernel)",
   "language": "python",
   "name": "python3"
  },
  "language_info": {
   "codemirror_mode": {
    "name": "ipython",
    "version": 3
   },
   "file_extension": ".py",
   "mimetype": "text/x-python",
   "name": "python",
   "nbconvert_exporter": "python",
   "pygments_lexer": "ipython3",
   "version": "3.9.7"
  }
 },
 "nbformat": 4,
 "nbformat_minor": 5
}
