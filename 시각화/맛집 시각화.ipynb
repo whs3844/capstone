{
 "cells": [
  {
   "cell_type": "code",
   "execution_count": 2,
   "id": "3aca332d",
   "metadata": {},
   "outputs": [],
   "source": [
    "# =============================================================================\n",
    "# 음식점 위치를 지도에 시각화\n",
    "# =============================================================================\n",
    "# 1. 파일 불러오기\n",
    "import pandas as pd\n",
    "\n",
    "rest_loc = pd.read_csv('C://Users//whs38//캡스톤//데이터//음식점.csv',encoding='euc-kr')\n",
    "rest_loc.head()\n",
    "\n",
    "\n",
    "\n",
    "# 2. 제주도 지역별 경계선 데이터 불러오기\n",
    "import json\n",
    "geo_path = 'C://Users//whs38//캡스톤//jeju_map.geojson'\n",
    "geo_str = json.load(open(geo_path, encoding='utf-8'))\n",
    "\n",
    "\n",
    "\n",
    "# 3. 음식점들의 위치를 지도에 나타내어 시각화  \n",
    "# 지도에 음식점 위치와 음식점 이름 띄우기\n",
    "import folium\n",
    "\n",
    "rest_map = folium.Map(location=[33.38, 126.5], zoom_start=11,\n",
    "                       tiles='Stamen Terrain') \n",
    "\n",
    "for n in rest_loc.index:\n",
    "    folium.Marker([rest_loc['lat'][n],\n",
    "                   rest_loc['lng'][n]],\n",
    "                  popup=rest_loc['restaurant'][n],\n",
    "                  icon=folium.Icon(color='orange', icon='heart')).add_to(rest_map)\n",
    "    \n",
    "rest_map.save(\"C://Users//whs38//캡스톤//음식점 시각화(marker).html\")"
   ]
  },
  {
   "cell_type": "code",
   "execution_count": null,
   "id": "7ef482ef",
   "metadata": {},
   "outputs": [],
   "source": []
  }
 ],
 "metadata": {
  "kernelspec": {
   "display_name": "Python 3 (ipykernel)",
   "language": "python",
   "name": "python3"
  },
  "language_info": {
   "codemirror_mode": {
    "name": "ipython",
    "version": 3
   },
   "file_extension": ".py",
   "mimetype": "text/x-python",
   "name": "python",
   "nbconvert_exporter": "python",
   "pygments_lexer": "ipython3",
   "version": "3.9.7"
  }
 },
 "nbformat": 4,
 "nbformat_minor": 5
}
